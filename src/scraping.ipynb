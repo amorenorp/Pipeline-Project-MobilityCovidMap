{
 "cells": [
  {
   "cell_type": "code",
   "execution_count": 1,
   "id": "stable-daily",
   "metadata": {},
   "outputs": [],
   "source": [
    "# libreria de analisis de datos\n",
    "import pandas as pd \n",
    "# libreria para request\n",
    "import requests \n",
    "# libreria parseo de html\n",
    "from bs4 import BeautifulSoup "
   ]
  },
  {
   "cell_type": "markdown",
   "id": "postal-requirement",
   "metadata": {},
   "source": [
    "# scraping  Mundo "
   ]
  },
  {
   "cell_type": "code",
   "execution_count": 2,
   "id": "square-review",
   "metadata": {},
   "outputs": [
    {
     "data": {
      "text/plain": [
       "<Response [200]>"
      ]
     },
     "execution_count": 2,
     "metadata": {},
     "output_type": "execute_result"
    }
   ],
   "source": [
    "url=\"https://en.wikipedia.org/wiki/List_of_countries_and_dependencies_by_population\"\n",
    "table_class=\"wikitable sortable jquery-tablesorter\"\n",
    "response=requests.get(url)\n",
    "response\n"
   ]
  },
  {
   "cell_type": "code",
   "execution_count": 3,
   "id": "knowing-johnson",
   "metadata": {},
   "outputs": [],
   "source": [
    "# parseo de datos del html a BeautifulSoup \n",
    "soup = BeautifulSoup(response.text, 'html.parser')\n",
    "table=soup.find('table',{'class':\"wikitable\"})"
   ]
  },
  {
   "cell_type": "code",
   "execution_count": 4,
   "id": "august-authority",
   "metadata": {},
   "outputs": [
    {
     "name": "stdout",
     "output_type": "stream",
     "text": [
      "  Rank Country(or dependent territory)  Population % of world         Date  \\\n",
      "0    1                        China[b]  1406458760        NaN   1 Feb 2021   \n",
      "1    2                        India[c]  1372816003        NaN   1 Feb 2021   \n",
      "2    3                United States[d]   331091979        NaN   1 Feb 2021   \n",
      "3    4                       Indonesia   270203917        NaN  30 Sep 2020   \n",
      "4    5                     Pakistan[e]   225200000        NaN   1 Jul 2021   \n",
      "\n",
      "         Source(official or UN)  \n",
      "0  National population clock[3]  \n",
      "1  National population clock[4]  \n",
      "2  National population clock[5]  \n",
      "3         2020 census result[6]  \n",
      "4              UN Projection[2]  \n"
     ]
    }
   ],
   "source": [
    "df=pd.read_html(str(table))\n",
    "# conversion de lista a DF\n",
    "df=pd.DataFrame(df[0])\n",
    "print(df.head())\n"
   ]
  },
  {
   "cell_type": "code",
   "execution_count": 5,
   "id": "sealed-coffee",
   "metadata": {},
   "outputs": [],
   "source": [
    "# drop de columnas\n",
    "data = df.drop([ 'Rank','% of world',\n",
    "       'Date', 'Source(official or UN)'], axis=1,inplace=True)"
   ]
  },
  {
   "cell_type": "code",
   "execution_count": 6,
   "id": "mechanical-graham",
   "metadata": {},
   "outputs": [],
   "source": [
    "world_pop = data"
   ]
  },
  {
   "cell_type": "code",
   "execution_count": 7,
   "id": "pacific-comfort",
   "metadata": {},
   "outputs": [],
   "source": [
    "df.to_csv(\"../data/world_pop.csv\", index=False)"
   ]
  },
  {
   "cell_type": "markdown",
   "id": "ultimate-tracker",
   "metadata": {},
   "source": [
    "# Scraping España "
   ]
  },
  {
   "cell_type": "code",
   "execution_count": 8,
   "id": "alive-treatment",
   "metadata": {},
   "outputs": [
    {
     "data": {
      "text/plain": [
       "<Response [200]>"
      ]
     },
     "execution_count": 8,
     "metadata": {},
     "output_type": "execute_result"
    }
   ],
   "source": [
    "url2=\"https://es.wikipedia.org/wiki/Anexo:Municipios_de_Espa%C3%B1a_por_poblaci%C3%B3n\"\n",
    "table_class=\"wikitable sortable jquery-tablesorter\"\n",
    "response2=requests.get(url2)\n",
    "response2"
   ]
  },
  {
   "cell_type": "code",
   "execution_count": 9,
   "id": "subjective-recipe",
   "metadata": {},
   "outputs": [],
   "source": [
    "# parseo de datos del html a BeautifulSoup \n",
    "soup2 = BeautifulSoup(response2.text, 'html.parser')\n",
    "table2=soup2.find('table',{'class':\"wikitable\"})"
   ]
  },
  {
   "cell_type": "code",
   "execution_count": 10,
   "id": "extra-statement",
   "metadata": {},
   "outputs": [
    {
     "name": "stdout",
     "output_type": "stream",
     "text": [
      "   N.º     Nombre Población(1 de enero de 2020)  Provincia  \\\n",
      "0    1     Madrid                     3 334 730     Madrid   \n",
      "1    2  Barcelona                     1 664 182  Barcelona   \n",
      "2    3   Valencia                       800 215   Valencia   \n",
      "3    4    Sevilla                       691 395    Sevilla   \n",
      "4    5   Zaragoza                       681 877   Zaragoza   \n",
      "\n",
      "     Comunidad autónoma  \n",
      "0   Comunidad de Madrid  \n",
      "1              Cataluña  \n",
      "2  Comunidad Valenciana  \n",
      "3             Andalucía  \n",
      "4                Aragón  \n"
     ]
    }
   ],
   "source": [
    "df2=pd.read_html(str(table2))\n",
    "# conversion de lista a DF\n",
    "df2=pd.DataFrame(df2[0])\n",
    "print(df2.head())"
   ]
  },
  {
   "cell_type": "code",
   "execution_count": null,
   "id": "consistent-chambers",
   "metadata": {},
   "outputs": [],
   "source": [
    "df2.columns\n"
   ]
  },
  {
   "cell_type": "code",
   "execution_count": 11,
   "id": "plastic-structure",
   "metadata": {},
   "outputs": [],
   "source": [
    "# drop de columnas\n",
    "data2 = df2.drop(['N.º','Provincia','Comunidad autónoma'], axis=1,inplace=True)"
   ]
  },
  {
   "cell_type": "code",
   "execution_count": 16,
   "id": "first-serbia",
   "metadata": {},
   "outputs": [],
   "source": [
    "# renombrar columnas\n",
    "data2 = df2.rename(columns={'Población(1 de enero de 2020)':'Poblacion'},inplace=True)"
   ]
  },
  {
   "cell_type": "code",
   "execution_count": 17,
   "id": "other-fourth",
   "metadata": {},
   "outputs": [],
   "source": [
    "esp_pop = data2"
   ]
  },
  {
   "cell_type": "code",
   "execution_count": 15,
   "id": "worthy-lodge",
   "metadata": {},
   "outputs": [],
   "source": [
    "df2.to_csv(\"../data/esp_pop.csv\", index=False)"
   ]
  }
 ],
 "metadata": {
  "kernelspec": {
   "display_name": "Python 3",
   "language": "python",
   "name": "python3"
  },
  "language_info": {
   "codemirror_mode": {
    "name": "ipython",
    "version": 3
   },
   "file_extension": ".py",
   "mimetype": "text/x-python",
   "name": "python",
   "nbconvert_exporter": "python",
   "pygments_lexer": "ipython3",
   "version": "3.9.1"
  },
  "toc": {
   "base_numbering": 1,
   "nav_menu": {},
   "number_sections": true,
   "sideBar": true,
   "skip_h1_title": false,
   "title_cell": "Table of Contents",
   "title_sidebar": "Contents",
   "toc_cell": false,
   "toc_position": {},
   "toc_section_display": true,
   "toc_window_display": false
  },
  "varInspector": {
   "cols": {
    "lenName": 16,
    "lenType": 16,
    "lenVar": 40
   },
   "kernels_config": {
    "python": {
     "delete_cmd_postfix": "",
     "delete_cmd_prefix": "del ",
     "library": "var_list.py",
     "varRefreshCmd": "print(var_dic_list())"
    },
    "r": {
     "delete_cmd_postfix": ") ",
     "delete_cmd_prefix": "rm(",
     "library": "var_list.r",
     "varRefreshCmd": "cat(var_dic_list()) "
    }
   },
   "types_to_exclude": [
    "module",
    "function",
    "builtin_function_or_method",
    "instance",
    "_Feature"
   ],
   "window_display": false
  }
 },
 "nbformat": 4,
 "nbformat_minor": 5
}
