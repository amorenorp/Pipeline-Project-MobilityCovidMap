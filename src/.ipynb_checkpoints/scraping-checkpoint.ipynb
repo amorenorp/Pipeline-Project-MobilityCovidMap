{
 "cells": [
  {
   "cell_type": "code",
   "execution_count": null,
   "id": "ignored-yesterday",
   "metadata": {},
   "outputs": [],
   "source": [
    "# libreria de analisis de datos\n",
    "import pandas as pd \n",
    "# libreria para request\n",
    "import requests \n",
    "# libreria parseo de html\n",
    "from bs4 import BeautifulSoup "
   ]
  },
  {
   "cell_type": "markdown",
   "id": "compatible-cleanup",
   "metadata": {},
   "source": [
    "# scraping  Mundo "
   ]
  },
  {
   "cell_type": "code",
   "execution_count": null,
   "id": "partial-pillow",
   "metadata": {},
   "outputs": [],
   "source": [
    "url=\"https://en.wikipedia.org/wiki/List_of_countries_and_dependencies_by_population\"\n",
    "table_class=\"wikitable sortable jquery-tablesorter\"\n",
    "response=requests.get(url)\n",
    "response\n"
   ]
  },
  {
   "cell_type": "code",
   "execution_count": null,
   "id": "sudden-infrastructure",
   "metadata": {},
   "outputs": [],
   "source": [
    "# parseo de datos del html a BeautifulSoup \n",
    "soup = BeautifulSoup(response.text, 'html.parser')\n",
    "table=soup.find('table',{'class':\"wikitable\"})"
   ]
  },
  {
   "cell_type": "code",
   "execution_count": null,
   "id": "brilliant-basic",
   "metadata": {},
   "outputs": [],
   "source": [
    "df=pd.read_html(str(table))\n",
    "# conversion de lista a DF\n",
    "df=pd.DataFrame(df[0])\n",
    "print(df.head())\n"
   ]
  },
  {
   "cell_type": "code",
   "execution_count": null,
   "id": "initial-blond",
   "metadata": {},
   "outputs": [],
   "source": [
    "# drop de columnas\n",
    "data = df.drop([ 'Rank','% of world',\n",
    "       'Date', 'Source(official or UN)'], axis=1,inplace=True)"
   ]
  },
  {
   "cell_type": "code",
   "execution_count": null,
   "id": "relevant-kennedy",
   "metadata": {},
   "outputs": [],
   "source": [
    "world_pop = data"
   ]
  },
  {
   "cell_type": "code",
   "execution_count": null,
   "id": "above-charge",
   "metadata": {},
   "outputs": [],
   "source": [
    "df.to_csv(\"../data/world_pop.csv\", index=False)"
   ]
  },
  {
   "cell_type": "markdown",
   "id": "hidden-democracy",
   "metadata": {},
   "source": [
    "# Scraping España "
   ]
  },
  {
   "cell_type": "code",
   "execution_count": null,
   "id": "dangerous-apache",
   "metadata": {},
   "outputs": [],
   "source": [
    "url2=\"https://es.wikipedia.org/wiki/Anexo:Municipios_de_Espa%C3%B1a_por_poblaci%C3%B3n\"\n",
    "table_class=\"wikitable sortable jquery-tablesorter\"\n",
    "response2=requests.get(url2)\n",
    "response2"
   ]
  },
  {
   "cell_type": "code",
   "execution_count": null,
   "id": "deluxe-kidney",
   "metadata": {},
   "outputs": [],
   "source": [
    "# parseo de datos del html a BeautifulSoup \n",
    "soup2 = BeautifulSoup(response2.text, 'html.parser')\n",
    "table2=soup2.find('table',{'class':\"wikitable\"})"
   ]
  },
  {
   "cell_type": "code",
   "execution_count": null,
   "id": "supported-dress",
   "metadata": {},
   "outputs": [],
   "source": [
    "df2=pd.read_html(str(table2))\n",
    "# conversion de lista a DF\n",
    "df2=pd.DataFrame(df2[0])\n",
    "print(df2.head())"
   ]
  },
  {
   "cell_type": "code",
   "execution_count": null,
   "id": "automotive-belize",
   "metadata": {},
   "outputs": [],
   "source": [
    "df2.columns\n"
   ]
  },
  {
   "cell_type": "code",
   "execution_count": null,
   "id": "outside-brunswick",
   "metadata": {},
   "outputs": [],
   "source": [
    "# drop de columnas\n",
    "data2 = df2.drop(['N.º'], axis=1,inplace=True)"
   ]
  },
  {
   "cell_type": "code",
   "execution_count": null,
   "id": "technological-gender",
   "metadata": {},
   "outputs": [],
   "source": [
    "esp_pop = data2"
   ]
  },
  {
   "cell_type": "code",
   "execution_count": null,
   "id": "conditional-rating",
   "metadata": {},
   "outputs": [],
   "source": [
    "df.to_csv(\"../data/esp_pop.csv\", index=False)"
   ]
  }
 ],
 "metadata": {
  "kernelspec": {
   "display_name": "Python 3",
   "language": "python",
   "name": "python3"
  },
  "language_info": {
   "codemirror_mode": {
    "name": "ipython",
    "version": 3
   },
   "file_extension": ".py",
   "mimetype": "text/x-python",
   "name": "python",
   "nbconvert_exporter": "python",
   "pygments_lexer": "ipython3",
   "version": "3.9.1"
  },
  "toc": {
   "base_numbering": 1,
   "nav_menu": {},
   "number_sections": true,
   "sideBar": true,
   "skip_h1_title": false,
   "title_cell": "Table of Contents",
   "title_sidebar": "Contents",
   "toc_cell": false,
   "toc_position": {},
   "toc_section_display": true,
   "toc_window_display": false
  },
  "varInspector": {
   "cols": {
    "lenName": 16,
    "lenType": 16,
    "lenVar": 40
   },
   "kernels_config": {
    "python": {
     "delete_cmd_postfix": "",
     "delete_cmd_prefix": "del ",
     "library": "var_list.py",
     "varRefreshCmd": "print(var_dic_list())"
    },
    "r": {
     "delete_cmd_postfix": ") ",
     "delete_cmd_prefix": "rm(",
     "library": "var_list.r",
     "varRefreshCmd": "cat(var_dic_list()) "
    }
   },
   "types_to_exclude": [
    "module",
    "function",
    "builtin_function_or_method",
    "instance",
    "_Feature"
   ],
   "window_display": false
  }
 },
 "nbformat": 4,
 "nbformat_minor": 5
}
